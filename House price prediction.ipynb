{
 "cells": [
  {
   "cell_type": "code",
   "execution_count": 1,
   "id": "adf69b1e",
   "metadata": {},
   "outputs": [],
   "source": [
    "#Importing necessory libraries\n",
    "import numpy as np\n",
    "import pandas as pd\n",
    "import matplotlib.pyplot as plt\n",
    "import seaborn as sns\n",
    "import statistics"
   ]
  },
  {
   "cell_type": "code",
   "execution_count": 2,
   "id": "df26d487",
   "metadata": {},
   "outputs": [
    {
     "data": {
      "text/html": [
       "<div>\n",
       "<style scoped>\n",
       "    .dataframe tbody tr th:only-of-type {\n",
       "        vertical-align: middle;\n",
       "    }\n",
       "\n",
       "    .dataframe tbody tr th {\n",
       "        vertical-align: top;\n",
       "    }\n",
       "\n",
       "    .dataframe thead th {\n",
       "        text-align: right;\n",
       "    }\n",
       "</style>\n",
       "<table border=\"1\" class=\"dataframe\">\n",
       "  <thead>\n",
       "    <tr style=\"text-align: right;\">\n",
       "      <th></th>\n",
       "      <th>PRT_ID</th>\n",
       "      <th>AREA</th>\n",
       "      <th>INT_SQFT</th>\n",
       "      <th>DATE_SALE</th>\n",
       "      <th>DIST_MAINROAD</th>\n",
       "      <th>N_BEDROOM</th>\n",
       "      <th>N_BATHROOM</th>\n",
       "      <th>N_ROOM</th>\n",
       "      <th>SALE_COND</th>\n",
       "      <th>PARK_FACIL</th>\n",
       "      <th>...</th>\n",
       "      <th>UTILITY_AVAIL</th>\n",
       "      <th>STREET</th>\n",
       "      <th>MZZONE</th>\n",
       "      <th>QS_ROOMS</th>\n",
       "      <th>QS_BATHROOM</th>\n",
       "      <th>QS_BEDROOM</th>\n",
       "      <th>QS_OVERALL</th>\n",
       "      <th>REG_FEE</th>\n",
       "      <th>COMMIS</th>\n",
       "      <th>SALES_PRICE</th>\n",
       "    </tr>\n",
       "  </thead>\n",
       "  <tbody>\n",
       "    <tr>\n",
       "      <th>0</th>\n",
       "      <td>P03210</td>\n",
       "      <td>Karapakkam</td>\n",
       "      <td>1004</td>\n",
       "      <td>04-05-2011</td>\n",
       "      <td>131</td>\n",
       "      <td>1.0</td>\n",
       "      <td>1.0</td>\n",
       "      <td>3</td>\n",
       "      <td>AbNormal</td>\n",
       "      <td>Yes</td>\n",
       "      <td>...</td>\n",
       "      <td>AllPub</td>\n",
       "      <td>Paved</td>\n",
       "      <td>A</td>\n",
       "      <td>4.0</td>\n",
       "      <td>3.9</td>\n",
       "      <td>4.9</td>\n",
       "      <td>4.330</td>\n",
       "      <td>380000</td>\n",
       "      <td>144400</td>\n",
       "      <td>7600000</td>\n",
       "    </tr>\n",
       "    <tr>\n",
       "      <th>1</th>\n",
       "      <td>P09411</td>\n",
       "      <td>Anna Nagar</td>\n",
       "      <td>1986</td>\n",
       "      <td>19-12-2006</td>\n",
       "      <td>26</td>\n",
       "      <td>2.0</td>\n",
       "      <td>1.0</td>\n",
       "      <td>5</td>\n",
       "      <td>AbNormal</td>\n",
       "      <td>No</td>\n",
       "      <td>...</td>\n",
       "      <td>AllPub</td>\n",
       "      <td>Gravel</td>\n",
       "      <td>RH</td>\n",
       "      <td>4.9</td>\n",
       "      <td>4.2</td>\n",
       "      <td>2.5</td>\n",
       "      <td>3.765</td>\n",
       "      <td>760122</td>\n",
       "      <td>304049</td>\n",
       "      <td>21717770</td>\n",
       "    </tr>\n",
       "    <tr>\n",
       "      <th>2</th>\n",
       "      <td>P01812</td>\n",
       "      <td>Adyar</td>\n",
       "      <td>909</td>\n",
       "      <td>04-02-2012</td>\n",
       "      <td>70</td>\n",
       "      <td>1.0</td>\n",
       "      <td>1.0</td>\n",
       "      <td>3</td>\n",
       "      <td>AbNormal</td>\n",
       "      <td>Yes</td>\n",
       "      <td>...</td>\n",
       "      <td>ELO</td>\n",
       "      <td>Gravel</td>\n",
       "      <td>RL</td>\n",
       "      <td>4.1</td>\n",
       "      <td>3.8</td>\n",
       "      <td>2.2</td>\n",
       "      <td>3.090</td>\n",
       "      <td>421094</td>\n",
       "      <td>92114</td>\n",
       "      <td>13159200</td>\n",
       "    </tr>\n",
       "    <tr>\n",
       "      <th>3</th>\n",
       "      <td>P05346</td>\n",
       "      <td>Velachery</td>\n",
       "      <td>1855</td>\n",
       "      <td>13-03-2010</td>\n",
       "      <td>14</td>\n",
       "      <td>3.0</td>\n",
       "      <td>2.0</td>\n",
       "      <td>5</td>\n",
       "      <td>Family</td>\n",
       "      <td>No</td>\n",
       "      <td>...</td>\n",
       "      <td>NoSewr</td>\n",
       "      <td>Paved</td>\n",
       "      <td>I</td>\n",
       "      <td>4.7</td>\n",
       "      <td>3.9</td>\n",
       "      <td>3.6</td>\n",
       "      <td>4.010</td>\n",
       "      <td>356321</td>\n",
       "      <td>77042</td>\n",
       "      <td>9630290</td>\n",
       "    </tr>\n",
       "    <tr>\n",
       "      <th>4</th>\n",
       "      <td>P06210</td>\n",
       "      <td>Karapakkam</td>\n",
       "      <td>1226</td>\n",
       "      <td>05-10-2009</td>\n",
       "      <td>84</td>\n",
       "      <td>1.0</td>\n",
       "      <td>1.0</td>\n",
       "      <td>3</td>\n",
       "      <td>AbNormal</td>\n",
       "      <td>Yes</td>\n",
       "      <td>...</td>\n",
       "      <td>AllPub</td>\n",
       "      <td>Gravel</td>\n",
       "      <td>C</td>\n",
       "      <td>3.0</td>\n",
       "      <td>2.5</td>\n",
       "      <td>4.1</td>\n",
       "      <td>3.290</td>\n",
       "      <td>237000</td>\n",
       "      <td>74063</td>\n",
       "      <td>7406250</td>\n",
       "    </tr>\n",
       "    <tr>\n",
       "      <th>...</th>\n",
       "      <td>...</td>\n",
       "      <td>...</td>\n",
       "      <td>...</td>\n",
       "      <td>...</td>\n",
       "      <td>...</td>\n",
       "      <td>...</td>\n",
       "      <td>...</td>\n",
       "      <td>...</td>\n",
       "      <td>...</td>\n",
       "      <td>...</td>\n",
       "      <td>...</td>\n",
       "      <td>...</td>\n",
       "      <td>...</td>\n",
       "      <td>...</td>\n",
       "      <td>...</td>\n",
       "      <td>...</td>\n",
       "      <td>...</td>\n",
       "      <td>...</td>\n",
       "      <td>...</td>\n",
       "      <td>...</td>\n",
       "      <td>...</td>\n",
       "    </tr>\n",
       "    <tr>\n",
       "      <th>7104</th>\n",
       "      <td>P03834</td>\n",
       "      <td>Karapakkam</td>\n",
       "      <td>598</td>\n",
       "      <td>03-01-2011</td>\n",
       "      <td>51</td>\n",
       "      <td>1.0</td>\n",
       "      <td>1.0</td>\n",
       "      <td>2</td>\n",
       "      <td>AdjLand</td>\n",
       "      <td>No</td>\n",
       "      <td>...</td>\n",
       "      <td>ELO</td>\n",
       "      <td>No Access</td>\n",
       "      <td>RM</td>\n",
       "      <td>3.0</td>\n",
       "      <td>2.2</td>\n",
       "      <td>2.4</td>\n",
       "      <td>2.520</td>\n",
       "      <td>208767</td>\n",
       "      <td>107060</td>\n",
       "      <td>5353000</td>\n",
       "    </tr>\n",
       "    <tr>\n",
       "      <th>7105</th>\n",
       "      <td>P10000</td>\n",
       "      <td>Velachery</td>\n",
       "      <td>1897</td>\n",
       "      <td>08-04-2004</td>\n",
       "      <td>52</td>\n",
       "      <td>3.0</td>\n",
       "      <td>2.0</td>\n",
       "      <td>5</td>\n",
       "      <td>Family</td>\n",
       "      <td>Yes</td>\n",
       "      <td>...</td>\n",
       "      <td>NoSeWa</td>\n",
       "      <td>No Access</td>\n",
       "      <td>RH</td>\n",
       "      <td>3.6</td>\n",
       "      <td>4.5</td>\n",
       "      <td>3.3</td>\n",
       "      <td>3.920</td>\n",
       "      <td>346191</td>\n",
       "      <td>205551</td>\n",
       "      <td>10818480</td>\n",
       "    </tr>\n",
       "    <tr>\n",
       "      <th>7106</th>\n",
       "      <td>P09594</td>\n",
       "      <td>Velachery</td>\n",
       "      <td>1614</td>\n",
       "      <td>25-08-2006</td>\n",
       "      <td>152</td>\n",
       "      <td>2.0</td>\n",
       "      <td>1.0</td>\n",
       "      <td>4</td>\n",
       "      <td>Normal Sale</td>\n",
       "      <td>No</td>\n",
       "      <td>...</td>\n",
       "      <td>NoSeWa</td>\n",
       "      <td>Gravel</td>\n",
       "      <td>I</td>\n",
       "      <td>4.3</td>\n",
       "      <td>4.2</td>\n",
       "      <td>2.9</td>\n",
       "      <td>3.840</td>\n",
       "      <td>317354</td>\n",
       "      <td>167028</td>\n",
       "      <td>8351410</td>\n",
       "    </tr>\n",
       "    <tr>\n",
       "      <th>7107</th>\n",
       "      <td>P06508</td>\n",
       "      <td>Karapakkam</td>\n",
       "      <td>787</td>\n",
       "      <td>03-08-2009</td>\n",
       "      <td>40</td>\n",
       "      <td>1.0</td>\n",
       "      <td>1.0</td>\n",
       "      <td>2</td>\n",
       "      <td>Partial</td>\n",
       "      <td>Yes</td>\n",
       "      <td>...</td>\n",
       "      <td>ELO</td>\n",
       "      <td>Paved</td>\n",
       "      <td>RL</td>\n",
       "      <td>4.6</td>\n",
       "      <td>3.8</td>\n",
       "      <td>4.1</td>\n",
       "      <td>4.160</td>\n",
       "      <td>425350</td>\n",
       "      <td>119098</td>\n",
       "      <td>8507000</td>\n",
       "    </tr>\n",
       "    <tr>\n",
       "      <th>7108</th>\n",
       "      <td>P09794</td>\n",
       "      <td>Velachery</td>\n",
       "      <td>1896</td>\n",
       "      <td>13-07-2005</td>\n",
       "      <td>156</td>\n",
       "      <td>3.0</td>\n",
       "      <td>2.0</td>\n",
       "      <td>5</td>\n",
       "      <td>Partial</td>\n",
       "      <td>Yes</td>\n",
       "      <td>...</td>\n",
       "      <td>ELO</td>\n",
       "      <td>Paved</td>\n",
       "      <td>I</td>\n",
       "      <td>3.1</td>\n",
       "      <td>3.5</td>\n",
       "      <td>4.3</td>\n",
       "      <td>3.640</td>\n",
       "      <td>349177</td>\n",
       "      <td>79812</td>\n",
       "      <td>9976480</td>\n",
       "    </tr>\n",
       "  </tbody>\n",
       "</table>\n",
       "<p>7109 rows × 22 columns</p>\n",
       "</div>"
      ],
      "text/plain": [
       "      PRT_ID        AREA  INT_SQFT   DATE_SALE  DIST_MAINROAD  N_BEDROOM  \\\n",
       "0     P03210  Karapakkam      1004  04-05-2011            131        1.0   \n",
       "1     P09411  Anna Nagar      1986  19-12-2006             26        2.0   \n",
       "2     P01812       Adyar       909  04-02-2012             70        1.0   \n",
       "3     P05346   Velachery      1855  13-03-2010             14        3.0   \n",
       "4     P06210  Karapakkam      1226  05-10-2009             84        1.0   \n",
       "...      ...         ...       ...         ...            ...        ...   \n",
       "7104  P03834  Karapakkam       598  03-01-2011             51        1.0   \n",
       "7105  P10000   Velachery      1897  08-04-2004             52        3.0   \n",
       "7106  P09594   Velachery      1614  25-08-2006            152        2.0   \n",
       "7107  P06508  Karapakkam       787  03-08-2009             40        1.0   \n",
       "7108  P09794   Velachery      1896  13-07-2005            156        3.0   \n",
       "\n",
       "      N_BATHROOM  N_ROOM    SALE_COND PARK_FACIL  ... UTILITY_AVAIL  \\\n",
       "0            1.0       3     AbNormal        Yes  ...        AllPub   \n",
       "1            1.0       5     AbNormal         No  ...        AllPub   \n",
       "2            1.0       3     AbNormal        Yes  ...           ELO   \n",
       "3            2.0       5       Family         No  ...       NoSewr    \n",
       "4            1.0       3     AbNormal        Yes  ...        AllPub   \n",
       "...          ...     ...          ...        ...  ...           ...   \n",
       "7104         1.0       2      AdjLand         No  ...           ELO   \n",
       "7105         2.0       5       Family        Yes  ...        NoSeWa   \n",
       "7106         1.0       4  Normal Sale         No  ...        NoSeWa   \n",
       "7107         1.0       2      Partial        Yes  ...           ELO   \n",
       "7108         2.0       5      Partial        Yes  ...           ELO   \n",
       "\n",
       "         STREET MZZONE QS_ROOMS QS_BATHROOM  QS_BEDROOM  QS_OVERALL  REG_FEE  \\\n",
       "0         Paved      A      4.0         3.9         4.9       4.330   380000   \n",
       "1        Gravel     RH      4.9         4.2         2.5       3.765   760122   \n",
       "2        Gravel     RL      4.1         3.8         2.2       3.090   421094   \n",
       "3         Paved      I      4.7         3.9         3.6       4.010   356321   \n",
       "4        Gravel      C      3.0         2.5         4.1       3.290   237000   \n",
       "...         ...    ...      ...         ...         ...         ...      ...   \n",
       "7104  No Access     RM      3.0         2.2         2.4       2.520   208767   \n",
       "7105  No Access     RH      3.6         4.5         3.3       3.920   346191   \n",
       "7106     Gravel      I      4.3         4.2         2.9       3.840   317354   \n",
       "7107      Paved     RL      4.6         3.8         4.1       4.160   425350   \n",
       "7108      Paved      I      3.1         3.5         4.3       3.640   349177   \n",
       "\n",
       "      COMMIS  SALES_PRICE  \n",
       "0     144400      7600000  \n",
       "1     304049     21717770  \n",
       "2      92114     13159200  \n",
       "3      77042      9630290  \n",
       "4      74063      7406250  \n",
       "...      ...          ...  \n",
       "7104  107060      5353000  \n",
       "7105  205551     10818480  \n",
       "7106  167028      8351410  \n",
       "7107  119098      8507000  \n",
       "7108   79812      9976480  \n",
       "\n",
       "[7109 rows x 22 columns]"
      ]
     },
     "execution_count": 2,
     "metadata": {},
     "output_type": "execute_result"
    }
   ],
   "source": [
    "#Reading the dataset\n",
    "data=pd.read_csv(\"train-chennai-sale.csv\")\n",
    "data"
   ]
  },
  {
   "cell_type": "code",
   "execution_count": 3,
   "id": "d518dae8",
   "metadata": {},
   "outputs": [
    {
     "data": {
      "text/plain": [
       "PRT_ID            0\n",
       "AREA              0\n",
       "INT_SQFT          0\n",
       "DATE_SALE         0\n",
       "DIST_MAINROAD     0\n",
       "N_BEDROOM         1\n",
       "N_BATHROOM        5\n",
       "N_ROOM            0\n",
       "SALE_COND         0\n",
       "PARK_FACIL        0\n",
       "DATE_BUILD        0\n",
       "BUILDTYPE         0\n",
       "UTILITY_AVAIL     0\n",
       "STREET            0\n",
       "MZZONE            0\n",
       "QS_ROOMS          0\n",
       "QS_BATHROOM       0\n",
       "QS_BEDROOM        0\n",
       "QS_OVERALL       48\n",
       "REG_FEE           0\n",
       "COMMIS            0\n",
       "SALES_PRICE       0\n",
       "dtype: int64"
      ]
     },
     "execution_count": 3,
     "metadata": {},
     "output_type": "execute_result"
    }
   ],
   "source": [
    "data.isnull().sum()"
   ]
  },
  {
   "cell_type": "code",
   "execution_count": 4,
   "id": "0594776a",
   "metadata": {},
   "outputs": [],
   "source": [
    "#Dropping all the columns which have null values\n",
    "data.dropna(inplace=True)"
   ]
  },
  {
   "cell_type": "code",
   "execution_count": 5,
   "id": "d881336e",
   "metadata": {},
   "outputs": [
    {
     "data": {
      "text/plain": [
       "Chrompet      1671\n",
       "Karapakkam    1356\n",
       "KK Nagar       989\n",
       "Velachery      973\n",
       "Anna Nagar     772\n",
       "Adyar          768\n",
       "T Nagar        490\n",
       "Chrompt          9\n",
       "Chrmpet          6\n",
       "Chormpet         5\n",
       "TNagar           5\n",
       "Karapakam        3\n",
       "Ana Nagar        3\n",
       "Ann Nagar        2\n",
       "Velchery         2\n",
       "Adyr             1\n",
       "KKNagar          1\n",
       "Name: AREA, dtype: int64"
      ]
     },
     "execution_count": 5,
     "metadata": {},
     "output_type": "execute_result"
    }
   ],
   "source": [
    "data[\"AREA\"].value_counts()"
   ]
  },
  {
   "cell_type": "code",
   "execution_count": 6,
   "id": "0a082552",
   "metadata": {},
   "outputs": [],
   "source": [
    "#Treating duplicates\n",
    "data[\"AREA\"]=data[\"AREA\"].replace({\"Chrompt\":\"Chrompet\",\"Chormpet\":\"Chrompet\",\"Chrmpet\":\"Chrompet\",\"TNagar\":\"T Nagar\",\"Ana Nagar\":\"Anna Nagar\",\"Karapakam\":\"Karapakkam\",\"Ann Nagar\":\"Anna Nagar\",\"Velchery\":\"Velachery\",\"Adyr\":\"Adyar\",\"KKNagar\":\"KK Nagar\"})"
   ]
  },
  {
   "cell_type": "code",
   "execution_count": 7,
   "id": "e386ec74",
   "metadata": {},
   "outputs": [
    {
     "data": {
      "text/plain": [
       "AdjLand        1426\n",
       "Normal Sale    1416\n",
       "Partial        1414\n",
       "AbNormal       1396\n",
       "Family         1390\n",
       "Adj Land          6\n",
       "Ab Normal         5\n",
       "Partiall          2\n",
       "PartiaLl          1\n",
       "Name: SALE_COND, dtype: int64"
      ]
     },
     "execution_count": 7,
     "metadata": {},
     "output_type": "execute_result"
    }
   ],
   "source": [
    "data[\"SALE_COND\"].value_counts()"
   ]
  },
  {
   "cell_type": "code",
   "execution_count": 8,
   "id": "545beabb",
   "metadata": {},
   "outputs": [],
   "source": [
    "data[\"SALE_COND\"]=data[\"SALE_COND\"].replace({\"Adj Land\":\"AdjLand\",\"Ab Normal\":\"AbNormal\",\"Partiall\":\"Partial\",\"PartiaLl\":\"Partial\"})"
   ]
  },
  {
   "cell_type": "code",
   "execution_count": 9,
   "id": "76a3b7a4",
   "metadata": {},
   "outputs": [
    {
     "data": {
      "text/plain": [
       "Yes    3557\n",
       "No     3498\n",
       "Noo       1\n",
       "Name: PARK_FACIL, dtype: int64"
      ]
     },
     "execution_count": 9,
     "metadata": {},
     "output_type": "execute_result"
    }
   ],
   "source": [
    "data[\"PARK_FACIL\"].value_counts()"
   ]
  },
  {
   "cell_type": "code",
   "execution_count": 10,
   "id": "0211a70d",
   "metadata": {},
   "outputs": [],
   "source": [
    "data[\"PARK_FACIL\"]=data[\"PARK_FACIL\"].replace({\"Noo\":\"No\"})"
   ]
  },
  {
   "cell_type": "code",
   "execution_count": 11,
   "id": "4823ac49",
   "metadata": {},
   "outputs": [
    {
     "data": {
      "text/plain": [
       "House         2433\n",
       "Commercial    2307\n",
       "Others        2287\n",
       "Other           25\n",
       "Comercial        4\n",
       "Name: BUILDTYPE, dtype: int64"
      ]
     },
     "execution_count": 11,
     "metadata": {},
     "output_type": "execute_result"
    }
   ],
   "source": [
    "data[\"BUILDTYPE\"].value_counts()"
   ]
  },
  {
   "cell_type": "code",
   "execution_count": 12,
   "id": "8d93f069",
   "metadata": {},
   "outputs": [],
   "source": [
    "data[\"BUILDTYPE\"]=data[\"BUILDTYPE\"].replace({\"Other\":\"Others\",\"Comercial\":\"Commercial\"})"
   ]
  },
  {
   "cell_type": "code",
   "execution_count": 13,
   "id": "8730151d",
   "metadata": {},
   "outputs": [
    {
     "data": {
      "text/plain": [
       "AllPub     1874\n",
       "NoSeWa     1860\n",
       "NoSewr     1812\n",
       "ELO        1509\n",
       "All Pub       1\n",
       "Name: UTILITY_AVAIL, dtype: int64"
      ]
     },
     "execution_count": 13,
     "metadata": {},
     "output_type": "execute_result"
    }
   ],
   "source": [
    "data[\"UTILITY_AVAIL\"].value_counts()"
   ]
  },
  {
   "cell_type": "code",
   "execution_count": 14,
   "id": "2563a1d0",
   "metadata": {},
   "outputs": [],
   "source": [
    "data[\"UTILITY_AVAIL\"]=data[\"UTILITY_AVAIL\"].replace({\"All Pub\":\"AllPub\",\"NoSewr\":\"NoSeWa\"})"
   ]
  },
  {
   "cell_type": "code",
   "execution_count": 15,
   "id": "08e9bc68",
   "metadata": {},
   "outputs": [
    {
     "data": {
      "text/plain": [
       "Paved        2542\n",
       "Gravel       2502\n",
       "No Access    1993\n",
       "Pavd           12\n",
       "NoAccess        7\n",
       "Name: STREET, dtype: int64"
      ]
     },
     "execution_count": 15,
     "metadata": {},
     "output_type": "execute_result"
    }
   ],
   "source": [
    "data[\"STREET\"].value_counts()"
   ]
  },
  {
   "cell_type": "code",
   "execution_count": 16,
   "id": "9a45a939",
   "metadata": {},
   "outputs": [],
   "source": [
    "data[\"STREET\"]=data[\"STREET\"].replace({\"Pavd\":\"Paved\",\"NoAccess\":\"No Access\"})"
   ]
  },
  {
   "cell_type": "code",
   "execution_count": 17,
   "id": "835b98bd",
   "metadata": {},
   "outputs": [
    {
     "data": {
      "text/plain": [
       "RL    1849\n",
       "RH    1808\n",
       "RM    1801\n",
       "C      547\n",
       "A      533\n",
       "I      518\n",
       "Name: MZZONE, dtype: int64"
      ]
     },
     "execution_count": 17,
     "metadata": {},
     "output_type": "execute_result"
    }
   ],
   "source": [
    "data[\"MZZONE\"].value_counts()"
   ]
  },
  {
   "cell_type": "code",
   "execution_count": 18,
   "id": "68609aa8",
   "metadata": {},
   "outputs": [],
   "source": [
    "age1=[]\n",
    "age2=[]\n",
    "for i in data[\"DATE_SALE\"]:\n",
    "    i=i.split(\"-\")\n",
    "    age1.append(int(i[-1]))\n",
    "for i in data[\"DATE_BUILD\"]:\n",
    "    i=i.split(\"-\")\n",
    "    age2.append(int(i[-1]))\n",
    "age=[]\n",
    "for i in range(len(age1)):\n",
    "    age.append(age1[i]-age2[i])\n",
    "data[\"AGE\"]=age\n"
   ]
  },
  {
   "cell_type": "code",
   "execution_count": 19,
   "id": "9ca70526",
   "metadata": {},
   "outputs": [
    {
     "name": "stdout",
     "output_type": "stream",
     "text": [
      "Karapakkam 101.04562178072112\n",
      "Anna Nagar 100.3963963963964\n",
      "Adyar 101.42522756827049\n",
      "Velachery 94.73333333333333\n",
      "Chrompet 98.07865168539325\n",
      "KK Nagar 100.74343434343434\n",
      "T Nagar 103.6020202020202\n"
     ]
    }
   ],
   "source": [
    "#Checking is there any relation between distance from road to home\n",
    "m=[]\n",
    "for i in data[\"AREA\"]:\n",
    "    if i not in m:\n",
    "        m.append(i)\n",
    "for i in m:\n",
    "    v=data[data[\"AREA\"]==i][\"DIST_MAINROAD\"].mean()\n",
    "    print(i,v)"
   ]
  },
  {
   "cell_type": "code",
   "execution_count": 20,
   "id": "70860256",
   "metadata": {},
   "outputs": [
    {
     "name": "stderr",
     "output_type": "stream",
     "text": [
      "C:\\Users\\preth\\anaconda3\\lib\\site-packages\\seaborn\\distributions.py:2557: FutureWarning: `distplot` is a deprecated function and will be removed in a future version. Please adapt your code to use either `displot` (a figure-level function with similar flexibility) or `histplot` (an axes-level function for histograms).\n",
      "  warnings.warn(msg, FutureWarning)\n"
     ]
    },
    {
     "data": {
      "text/plain": [
       "<AxesSubplot:xlabel='SALES_PRICE', ylabel='Density'>"
      ]
     },
     "execution_count": 20,
     "metadata": {},
     "output_type": "execute_result"
    },
    {
     "data": {
      "image/png": "[encoded data removed]",
      "text/plain": [
       "<Figure size 432x288 with 1 Axes>"
      ]
     },
     "metadata": {
      "needs_background": "light"
     },
     "output_type": "display_data"
    }
   ],
   "source": [
    "sns.distplot(data[\"SALES_PRICE\"])"
   ]
  },
  {
   "cell_type": "code",
   "execution_count": 21,
   "id": "7201da25",
   "metadata": {},
   "outputs": [
    {
     "data": {
      "text/plain": [
       "<matplotlib.collections.PathCollection at 0x1df69eecd60>"
      ]
     },
     "execution_count": 21,
     "metadata": {},
     "output_type": "execute_result"
    },
    {
     "data": {
      "image/png": "[encoded data removed]",
      "text/plain": [
       "<Figure size 432x288 with 1 Axes>"
      ]
     },
     "metadata": {
      "needs_background": "light"
     },
     "output_type": "display_data"
    }
   ],
   "source": [
    "plt.scatter(data[\"DIST_MAINROAD\"],data[\"SALES_PRICE\"])"
   ]
  },
  {
   "cell_type": "code",
   "execution_count": 22,
   "id": "a751c728",
   "metadata": {},
   "outputs": [
    {
     "data": {
      "text/plain": [
       "<matplotlib.collections.PathCollection at 0x1df69eece20>"
      ]
     },
     "execution_count": 22,
     "metadata": {},
     "output_type": "execute_result"
    },
    {
     "data": {
      "image/png": "[encoded data removed]",
      "text/plain": [
       "<Figure size 432x288 with 1 Axes>"
      ]
     },
     "metadata": {
      "needs_background": "light"
     },
     "output_type": "display_data"
    }
   ],
   "source": [
    "plt.scatter(data[\"INT_SQFT\"],data[\"SALES_PRICE\"])"
   ]
  },
  {
   "cell_type": "code",
   "execution_count": 23,
   "id": "744ae665",
   "metadata": {},
   "outputs": [
    {
     "data": {
      "text/plain": [
       "<matplotlib.collections.PathCollection at 0x1df69cf76a0>"
      ]
     },
     "execution_count": 23,
     "metadata": {},
     "output_type": "execute_result"
    },
    {
     "data": {
      "image/png": "[encoded data removed]",
      "text/plain": [
       "<Figure size 432x288 with 1 Axes>"
      ]
     },
     "metadata": {
      "needs_background": "light"
     },
     "output_type": "display_data"
    }
   ],
   "source": [
    "plt.scatter(data[\"QS_OVERALL\"],data[\"SALES_PRICE\"])"
   ]
  },
  {
   "cell_type": "code",
   "execution_count": 24,
   "id": "d8178252",
   "metadata": {},
   "outputs": [
    {
     "data": {
      "text/plain": [
       "<matplotlib.collections.PathCollection at 0x1df69f72f40>"
      ]
     },
     "execution_count": 24,
     "metadata": {},
     "output_type": "execute_result"
    },
    {
     "data": {
      "image/png": "[encoded data removed]",
      "text/plain": [
       "<Figure size 432x288 with 1 Axes>"
      ]
     },
     "metadata": {
      "needs_background": "light"
     },
     "output_type": "display_data"
    }
   ],
   "source": [
    "plt.scatter(data[\"AGE\"],data[\"SALES_PRICE\"])"
   ]
  },
  {
   "cell_type": "code",
   "execution_count": 25,
   "id": "2e9fd08f",
   "metadata": {},
   "outputs": [
    {
     "data": {
      "text/plain": [
       "<AxesSubplot:xlabel='AREA'>"
      ]
     },
     "execution_count": 25,
     "metadata": {},
     "output_type": "execute_result"
    },
    {
     "data": {
      "image/png": "[encoded data removed]",
      "text/plain": [
       "<Figure size 432x288 with 1 Axes>"
      ]
     },
     "metadata": {
      "needs_background": "light"
     },
     "output_type": "display_data"
    }
   ],
   "source": [
    "data[[\"AREA\",\"SALES_PRICE\"]].groupby(\"AREA\").mean().sort_values(by=[\"SALES_PRICE\"]).plot(kind=\"bar\")"
   ]
  },
  {
   "cell_type": "code",
   "execution_count": 26,
   "id": "e9e5d229",
   "metadata": {},
   "outputs": [
    {
     "data": {
      "text/plain": [
       "<AxesSubplot:xlabel='SALE_COND'>"
      ]
     },
     "execution_count": 26,
     "metadata": {},
     "output_type": "execute_result"
    },
    {
     "data": {
      "image/png": "[encoded data removed]",
      "text/plain": [
       "<Figure size 432x288 with 1 Axes>"
      ]
     },
     "metadata": {
      "needs_background": "light"
     },
     "output_type": "display_data"
    }
   ],
   "source": [
    "data[[\"SALE_COND\",\"SALES_PRICE\"]].groupby(\"SALE_COND\").sum().sort_values(by=[\"SALES_PRICE\"]).plot(kind=\"bar\")"
   ]
  },
  {
   "cell_type": "code",
   "execution_count": 27,
   "id": "bdfd72f8",
   "metadata": {
    "scrolled": true
   },
   "outputs": [
    {
     "data": {
      "text/plain": [
       "<AxesSubplot:xlabel='AREA'>"
      ]
     },
     "execution_count": 27,
     "metadata": {},
     "output_type": "execute_result"
    },
    {
     "data": {
      "image/png": "[encoded data removed]",
      "text/plain": [
       "<Figure size 432x288 with 1 Axes>"
      ]
     },
     "metadata": {
      "needs_background": "light"
     },
     "output_type": "display_data"
    }
   ],
   "source": [
    "data[[\"AREA\",\"SALES_PRICE\"]].groupby(\"AREA\").sum().sort_values(by=[\"SALES_PRICE\"]).plot(kind=\"bar\")"
   ]
  },
  {
   "cell_type": "code",
   "execution_count": 28,
   "id": "104abebe",
   "metadata": {},
   "outputs": [],
   "source": [
    "data.drop(\"DIST_MAINROAD\",axis=1,inplace=True)"
   ]
  },
  {
   "cell_type": "code",
   "execution_count": 29,
   "id": "4e710c28",
   "metadata": {},
   "outputs": [
    {
     "data": {
      "text/plain": [
       "<AxesSubplot:xlabel='N_BEDROOM'>"
      ]
     },
     "execution_count": 29,
     "metadata": {},
     "output_type": "execute_result"
    },
    {
     "data": {
      "image/png": "[encoded data removed]",
      "text/plain": [
       "<Figure size 432x288 with 1 Axes>"
      ]
     },
     "metadata": {
      "needs_background": "light"
     },
     "output_type": "display_data"
    }
   ],
   "source": [
    "data[[\"N_BEDROOM\",\"SALES_PRICE\"]].groupby(\"N_BEDROOM\").sum().sort_values(by=[\"SALES_PRICE\"]).plot(kind=\"bar\")"
   ]
  },
  {
   "cell_type": "code",
   "execution_count": 30,
   "id": "e6054cf5",
   "metadata": {},
   "outputs": [
    {
     "data": {
      "text/plain": [
       "<AxesSubplot:xlabel='N_BATHROOM'>"
      ]
     },
     "execution_count": 30,
     "metadata": {},
     "output_type": "execute_result"
    },
    {
     "data": {
      "image/png": "[encoded data removed]",
      "text/plain": [
       "<Figure size 432x288 with 1 Axes>"
      ]
     },
     "metadata": {
      "needs_background": "light"
     },
     "output_type": "display_data"
    }
   ],
   "source": [
    "data[[\"N_BATHROOM\",\"SALES_PRICE\"]].groupby(\"N_BATHROOM\").sum().sort_values(by=[\"SALES_PRICE\"]).plot(kind=\"bar\")"
   ]
  },
  {
   "cell_type": "code",
   "execution_count": 31,
   "id": "c578e6cc",
   "metadata": {},
   "outputs": [
    {
     "data": {
      "text/plain": [
       "<AxesSubplot:xlabel='N_ROOM'>"
      ]
     },
     "execution_count": 31,
     "metadata": {},
     "output_type": "execute_result"
    },
    {
     "data": {
      "image/png": "[encoded data removed]",
      "text/plain": [
       "<Figure size 432x288 with 1 Axes>"
      ]
     },
     "metadata": {
      "needs_background": "light"
     },
     "output_type": "display_data"
    }
   ],
   "source": [
    "data[[\"N_ROOM\",\"SALES_PRICE\"]].groupby(\"N_ROOM\").sum().sort_values(by=[\"SALES_PRICE\"]).plot(kind=\"bar\")"
   ]
  },
  {
   "cell_type": "code",
   "execution_count": 32,
   "id": "21bd9875",
   "metadata": {},
   "outputs": [],
   "source": [
    "data.drop([\"N_BEDROOM\",\"N_BATHROOM\"],axis=1,inplace=True)"
   ]
  },
  {
   "cell_type": "code",
   "execution_count": 33,
   "id": "3d3fd1ee",
   "metadata": {},
   "outputs": [],
   "source": [
    "data.drop([\"COMMIS\",\"REG_FEE\",\"PRT_ID\"],axis=1,inplace=True)"
   ]
  },
  {
   "cell_type": "code",
   "execution_count": 34,
   "id": "af86592f",
   "metadata": {},
   "outputs": [
    {
     "data": {
      "text/plain": [
       "<AxesSubplot:xlabel='SALE_COND'>"
      ]
     },
     "execution_count": 34,
     "metadata": {},
     "output_type": "execute_result"
    },
    {
     "data": {
      "image/png": "[encoded data removed]",
      "text/plain": [
       "<Figure size 432x288 with 1 Axes>"
      ]
     },
     "metadata": {
      "needs_background": "light"
     },
     "output_type": "display_data"
    }
   ],
   "source": [
    "data[[\"SALE_COND\",\"SALES_PRICE\"]].groupby(\"SALE_COND\").sum().sort_values(by=[\"SALES_PRICE\"]).plot(kind=\"bar\")"
   ]
  },
  {
   "cell_type": "code",
   "execution_count": 35,
   "id": "c938555f",
   "metadata": {},
   "outputs": [
    {
     "data": {
      "text/html": [
       "<div>\n",
       "<style scoped>\n",
       "    .dataframe tbody tr th:only-of-type {\n",
       "        vertical-align: middle;\n",
       "    }\n",
       "\n",
       "    .dataframe tbody tr th {\n",
       "        vertical-align: top;\n",
       "    }\n",
       "\n",
       "    .dataframe thead th {\n",
       "        text-align: right;\n",
       "    }\n",
       "</style>\n",
       "<table border=\"1\" class=\"dataframe\">\n",
       "  <thead>\n",
       "    <tr style=\"text-align: right;\">\n",
       "      <th></th>\n",
       "      <th>SALES_PRICE</th>\n",
       "    </tr>\n",
       "    <tr>\n",
       "      <th>SALE_COND</th>\n",
       "      <th></th>\n",
       "    </tr>\n",
       "  </thead>\n",
       "  <tbody>\n",
       "    <tr>\n",
       "      <th>Family</th>\n",
       "      <td>14894893335</td>\n",
       "    </tr>\n",
       "    <tr>\n",
       "      <th>Partial</th>\n",
       "      <td>15042839730</td>\n",
       "    </tr>\n",
       "    <tr>\n",
       "      <th>AbNormal</th>\n",
       "      <td>15287901540</td>\n",
       "    </tr>\n",
       "    <tr>\n",
       "      <th>Normal Sale</th>\n",
       "      <td>15563938915</td>\n",
       "    </tr>\n",
       "    <tr>\n",
       "      <th>AdjLand</th>\n",
       "      <td>16036212455</td>\n",
       "    </tr>\n",
       "  </tbody>\n",
       "</table>\n",
       "</div>"
      ],
      "text/plain": [
       "             SALES_PRICE\n",
       "SALE_COND               \n",
       "Family       14894893335\n",
       "Partial      15042839730\n",
       "AbNormal     15287901540\n",
       "Normal Sale  15563938915\n",
       "AdjLand      16036212455"
      ]
     },
     "execution_count": 35,
     "metadata": {},
     "output_type": "execute_result"
    }
   ],
   "source": [
    "data[[\"SALE_COND\",\"SALES_PRICE\"]].groupby(\"SALE_COND\").sum().sort_values(by=[\"SALES_PRICE\"])"
   ]
  },
  {
   "cell_type": "code",
   "execution_count": 36,
   "id": "a5266ed0",
   "metadata": {},
   "outputs": [],
   "source": [
    "data.drop(\"SALE_COND\",axis=1,inplace=True)"
   ]
  },
  {
   "cell_type": "code",
   "execution_count": 37,
   "id": "4f2bbc63",
   "metadata": {},
   "outputs": [
    {
     "data": {
      "text/plain": [
       "<AxesSubplot:xlabel='BUILDTYPE'>"
      ]
     },
     "execution_count": 37,
     "metadata": {},
     "output_type": "execute_result"
    },
    {
     "data": {
      "image/png": "[encoded data removed]",
      "text/plain": [
       "<Figure size 432x288 with 1 Axes>"
      ]
     },
     "metadata": {
      "needs_background": "light"
     },
     "output_type": "display_data"
    }
   ],
   "source": [
    "data[[\"BUILDTYPE\",\"SALES_PRICE\"]].groupby(\"BUILDTYPE\").sum().sort_values(by=[\"SALES_PRICE\"]).plot(kind=\"bar\")"
   ]
  },
  {
   "cell_type": "code",
   "execution_count": 38,
   "id": "d41b7db5",
   "metadata": {},
   "outputs": [
    {
     "data": {
      "text/html": [
       "<div>\n",
       "<style scoped>\n",
       "    .dataframe tbody tr th:only-of-type {\n",
       "        vertical-align: middle;\n",
       "    }\n",
       "\n",
       "    .dataframe tbody tr th {\n",
       "        vertical-align: top;\n",
       "    }\n",
       "\n",
       "    .dataframe thead th {\n",
       "        text-align: right;\n",
       "    }\n",
       "</style>\n",
       "<table border=\"1\" class=\"dataframe\">\n",
       "  <thead>\n",
       "    <tr style=\"text-align: right;\">\n",
       "      <th></th>\n",
       "      <th>SALES_PRICE</th>\n",
       "    </tr>\n",
       "    <tr>\n",
       "      <th>BUILDTYPE</th>\n",
       "      <th></th>\n",
       "    </tr>\n",
       "  </thead>\n",
       "  <tbody>\n",
       "    <tr>\n",
       "      <th>House</th>\n",
       "      <td>22132076115</td>\n",
       "    </tr>\n",
       "    <tr>\n",
       "      <th>Others</th>\n",
       "      <td>22644937550</td>\n",
       "    </tr>\n",
       "    <tr>\n",
       "      <th>Commercial</th>\n",
       "      <td>32048772310</td>\n",
       "    </tr>\n",
       "  </tbody>\n",
       "</table>\n",
       "</div>"
      ],
      "text/plain": [
       "            SALES_PRICE\n",
       "BUILDTYPE              \n",
       "House       22132076115\n",
       "Others      22644937550\n",
       "Commercial  32048772310"
      ]
     },
     "execution_count": 38,
     "metadata": {},
     "output_type": "execute_result"
    }
   ],
   "source": [
    "data[[\"BUILDTYPE\",\"SALES_PRICE\"]].groupby(\"BUILDTYPE\").sum().sort_values(by=[\"SALES_PRICE\"])"
   ]
  },
  {
   "cell_type": "code",
   "execution_count": 39,
   "id": "46554545",
   "metadata": {},
   "outputs": [
    {
     "data": {
      "text/plain": [
       "<AxesSubplot:xlabel='UTILITY_AVAIL'>"
      ]
     },
     "execution_count": 39,
     "metadata": {},
     "output_type": "execute_result"
    },
    {
     "data": {
      "image/png": "[encoded data removed]",
      "text/plain": [
       "<Figure size 432x288 with 1 Axes>"
      ]
     },
     "metadata": {
      "needs_background": "light"
     },
     "output_type": "display_data"
    }
   ],
   "source": [
    "data[[\"UTILITY_AVAIL\",\"SALES_PRICE\"]].groupby(\"UTILITY_AVAIL\").sum().sort_values(by=[\"SALES_PRICE\"]).plot(kind=\"bar\")"
   ]
  },
  {
   "cell_type": "code",
   "execution_count": 40,
   "id": "1a597496",
   "metadata": {},
   "outputs": [
    {
     "data": {
      "text/html": [
       "<div>\n",
       "<style scoped>\n",
       "    .dataframe tbody tr th:only-of-type {\n",
       "        vertical-align: middle;\n",
       "    }\n",
       "\n",
       "    .dataframe tbody tr th {\n",
       "        vertical-align: top;\n",
       "    }\n",
       "\n",
       "    .dataframe thead th {\n",
       "        text-align: right;\n",
       "    }\n",
       "</style>\n",
       "<table border=\"1\" class=\"dataframe\">\n",
       "  <thead>\n",
       "    <tr style=\"text-align: right;\">\n",
       "      <th></th>\n",
       "      <th>SALES_PRICE</th>\n",
       "    </tr>\n",
       "    <tr>\n",
       "      <th>UTILITY_AVAIL</th>\n",
       "      <th></th>\n",
       "    </tr>\n",
       "  </thead>\n",
       "  <tbody>\n",
       "    <tr>\n",
       "      <th>ELO</th>\n",
       "      <td>15778070195</td>\n",
       "    </tr>\n",
       "    <tr>\n",
       "      <th>NoSewr</th>\n",
       "      <td>19780001295</td>\n",
       "    </tr>\n",
       "    <tr>\n",
       "      <th>NoSeWa</th>\n",
       "      <td>20258857575</td>\n",
       "    </tr>\n",
       "    <tr>\n",
       "      <th>AllPub</th>\n",
       "      <td>21008856910</td>\n",
       "    </tr>\n",
       "  </tbody>\n",
       "</table>\n",
       "</div>"
      ],
      "text/plain": [
       "               SALES_PRICE\n",
       "UTILITY_AVAIL             \n",
       "ELO            15778070195\n",
       "NoSewr         19780001295\n",
       "NoSeWa         20258857575\n",
       "AllPub         21008856910"
      ]
     },
     "execution_count": 40,
     "metadata": {},
     "output_type": "execute_result"
    }
   ],
   "source": [
    "data[[\"UTILITY_AVAIL\",\"SALES_PRICE\"]].groupby(\"UTILITY_AVAIL\").sum().sort_values(by=[\"SALES_PRICE\"])"
   ]
  },
  {
   "cell_type": "code",
   "execution_count": 41,
   "id": "8fba4561",
   "metadata": {},
   "outputs": [
    {
     "data": {
      "text/plain": [
       "5.479660516137324e+18"
      ]
     },
     "execution_count": 41,
     "metadata": {},
     "output_type": "execute_result"
    }
   ],
   "source": [
    "statistics.variance(data[[\"UTILITY_AVAIL\",\"SALES_PRICE\"]].groupby(\"UTILITY_AVAIL\").sum().sort_values(by=[\"SALES_PRICE\"])[\"SALES_PRICE\"])"
   ]
  },
  {
   "cell_type": "code",
   "execution_count": 42,
   "id": "aeb98fc8",
   "metadata": {},
   "outputs": [],
   "source": [
    "data.drop(\"UTILITY_AVAIL\",axis=1,inplace=True)"
   ]
  },
  {
   "cell_type": "code",
   "execution_count": 43,
   "id": "46c7a787",
   "metadata": {},
   "outputs": [],
   "source": [
    "data.drop([\"DATE_SALE\",\"DATE_BUILD\"],axis=1,inplace=True)"
   ]
  },
  {
   "cell_type": "code",
   "execution_count": 44,
   "id": "42119dee",
   "metadata": {},
   "outputs": [
    {
     "name": "stdout",
     "output_type": "stream",
     "text": [
      "11437396.82175991\n"
     ]
    }
   ],
   "source": [
    "p=data[[\"PARK_FACIL\",\"SALES_PRICE\"]]\n",
    "print(np.mean(p[p[\"PARK_FACIL\"]==\"Yes\"][\"SALES_PRICE\"]))"
   ]
  },
  {
   "cell_type": "code",
   "execution_count": 45,
   "id": "905b7c18",
   "metadata": {},
   "outputs": [
    {
     "name": "stdout",
     "output_type": "stream",
     "text": [
      "10329512.855101457\n"
     ]
    }
   ],
   "source": [
    "p=data[[\"PARK_FACIL\",\"SALES_PRICE\"]]\n",
    "print(np.mean(p[p[\"PARK_FACIL\"]==\"No\"][\"SALES_PRICE\"]))"
   ]
  },
  {
   "cell_type": "code",
   "execution_count": 46,
   "id": "a1a119aa",
   "metadata": {},
   "outputs": [
    {
     "data": {
      "text/plain": [
       "<AxesSubplot:xlabel='STREET'>"
      ]
     },
     "execution_count": 46,
     "metadata": {},
     "output_type": "execute_result"
    },
    {
     "data": {
      "image/png": "[encoded data removed]",
      "text/plain": [
       "<Figure size 432x288 with 1 Axes>"
      ]
     },
     "metadata": {
      "needs_background": "light"
     },
     "output_type": "display_data"
    }
   ],
   "source": [
    "data[[\"STREET\",\"SALES_PRICE\"]].groupby(\"STREET\").sum().sort_values(by=[\"SALES_PRICE\"]).plot(kind=\"bar\")"
   ]
  },
  {
   "cell_type": "code",
   "execution_count": 47,
   "id": "5bf5b001",
   "metadata": {},
   "outputs": [
    {
     "data": {
      "text/plain": [
       "563448288875.645"
      ]
     },
     "execution_count": 47,
     "metadata": {},
     "output_type": "execute_result"
    }
   ],
   "source": [
    "statistics.variance(data[[\"STREET\",\"SALES_PRICE\"]].groupby(\"STREET\").mean()[\"SALES_PRICE\"])"
   ]
  },
  {
   "cell_type": "code",
   "execution_count": 48,
   "id": "1b7a2ca7",
   "metadata": {},
   "outputs": [
    {
     "data": {
      "text/plain": [
       "<AxesSubplot:xlabel='MZZONE'>"
      ]
     },
     "execution_count": 48,
     "metadata": {},
     "output_type": "execute_result"
    },
    {
     "data": {
      "image/png": "[encoded data removed]",
      "text/plain": [
       "<Figure size 432x288 with 1 Axes>"
      ]
     },
     "metadata": {
      "needs_background": "light"
     },
     "output_type": "display_data"
    }
   ],
   "source": [
    "data[[\"MZZONE\",\"SALES_PRICE\"]].groupby(\"MZZONE\").sum().sort_values(by=[\"SALES_PRICE\"]).plot(kind=\"bar\")"
   ]
  },
  {
   "cell_type": "code",
   "execution_count": 49,
   "id": "201f8553",
   "metadata": {},
   "outputs": [],
   "source": [
    "data.drop([\"QS_ROOMS\",\"QS_BATHROOM\",\"QS_BEDROOM\",\"QS_OVERALL\",\"AGE\"],axis=1,inplace=True)"
   ]
  },
  {
   "cell_type": "code",
   "execution_count": 50,
   "id": "39789ddd",
   "metadata": {},
   "outputs": [],
   "source": [
    "#Doing encoding\n",
    "data[\"AREA\"]=data[\"AREA\"].replace({\"Chrompet\":1,\"KK Nagar\":2,\"Anna Nagar\":3,\"Velachery\":4,\"Karapakkam\":5,\"T Nagar\":6,\"Adyar\":7})"
   ]
  },
  {
   "cell_type": "code",
   "execution_count": 51,
   "id": "7effb091",
   "metadata": {},
   "outputs": [],
   "source": [
    "data[\"PARK_FACIL\"]=data[\"PARK_FACIL\"].replace({\"Yes\":1,\"No\":0})"
   ]
  },
  {
   "cell_type": "code",
   "execution_count": 52,
   "id": "daf80da6",
   "metadata": {},
   "outputs": [],
   "source": [
    "data[\"BUILDTYPE\"]=data[\"BUILDTYPE\"].replace({\"Commercial\":1,\"Others\":2,\"House\":3})"
   ]
  },
  {
   "cell_type": "code",
   "execution_count": 53,
   "id": "8a269d56",
   "metadata": {},
   "outputs": [],
   "source": [
    "data[\"MZZONE\"]=data[\"MZZONE\"].replace({\"RM\":1,\"RL\":2,\"RH\":3,\"I\":4,\"C\":5,\"A\":6})"
   ]
  },
  {
   "cell_type": "code",
   "execution_count": 54,
   "id": "87817bbb",
   "metadata": {},
   "outputs": [],
   "source": [
    "data[\"STREET\"]=data[\"STREET\"].replace({\"Gravel\":1,\"Paved\":2,\"No Access\":3})"
   ]
  },
  {
   "cell_type": "code",
   "execution_count": 55,
   "id": "0c946655",
   "metadata": {},
   "outputs": [
    {
     "data": {
      "text/plain": [
       "<AxesSubplot:>"
      ]
     },
     "execution_count": 55,
     "metadata": {},
     "output_type": "execute_result"
    },
    {
     "data": {
      "image/png": "[encoded data removed]",
      "text/plain": [
       "<Figure size 432x288 with 2 Axes>"
      ]
     },
     "metadata": {
      "needs_background": "light"
     },
     "output_type": "display_data"
    }
   ],
   "source": [
    "#Checking correlation \n",
    "sns.heatmap(data.corr(),annot=True,cmap=\"coolwarm\")"
   ]
  },
  {
   "cell_type": "code",
   "execution_count": 56,
   "id": "fa39d6eb",
   "metadata": {},
   "outputs": [
    {
     "data": {
      "text/html": [
       "<div>\n",
       "<style scoped>\n",
       "    .dataframe tbody tr th:only-of-type {\n",
       "        vertical-align: middle;\n",
       "    }\n",
       "\n",
       "    .dataframe tbody tr th {\n",
       "        vertical-align: top;\n",
       "    }\n",
       "\n",
       "    .dataframe thead th {\n",
       "        text-align: right;\n",
       "    }\n",
       "</style>\n",
       "<table border=\"1\" class=\"dataframe\">\n",
       "  <thead>\n",
       "    <tr style=\"text-align: right;\">\n",
       "      <th></th>\n",
       "      <th>AREA</th>\n",
       "      <th>INT_SQFT</th>\n",
       "      <th>N_ROOM</th>\n",
       "      <th>PARK_FACIL</th>\n",
       "      <th>BUILDTYPE</th>\n",
       "      <th>STREET</th>\n",
       "      <th>MZZONE</th>\n",
       "      <th>SALES_PRICE</th>\n",
       "    </tr>\n",
       "  </thead>\n",
       "  <tbody>\n",
       "    <tr>\n",
       "      <th>BUILDTYPE</th>\n",
       "      <td>-0.005231</td>\n",
       "      <td>-0.010219</td>\n",
       "      <td>-0.009284</td>\n",
       "      <td>-0.011584</td>\n",
       "      <td>1.000000</td>\n",
       "      <td>-0.014846</td>\n",
       "      <td>0.005276</td>\n",
       "      <td>-0.515823</td>\n",
       "    </tr>\n",
       "    <tr>\n",
       "      <th>MZZONE</th>\n",
       "      <td>0.375669</td>\n",
       "      <td>-0.142489</td>\n",
       "      <td>-0.163375</td>\n",
       "      <td>0.006849</td>\n",
       "      <td>0.005276</td>\n",
       "      <td>0.041087</td>\n",
       "      <td>1.000000</td>\n",
       "      <td>-0.427526</td>\n",
       "    </tr>\n",
       "    <tr>\n",
       "      <th>STREET</th>\n",
       "      <td>0.073831</td>\n",
       "      <td>-0.090918</td>\n",
       "      <td>-0.088951</td>\n",
       "      <td>0.002516</td>\n",
       "      <td>-0.014846</td>\n",
       "      <td>1.000000</td>\n",
       "      <td>0.041087</td>\n",
       "      <td>-0.150060</td>\n",
       "    </tr>\n",
       "    <tr>\n",
       "      <th>AREA</th>\n",
       "      <td>1.000000</td>\n",
       "      <td>-0.059020</td>\n",
       "      <td>-0.091258</td>\n",
       "      <td>0.004357</td>\n",
       "      <td>-0.005231</td>\n",
       "      <td>0.073831</td>\n",
       "      <td>0.375669</td>\n",
       "      <td>-0.121602</td>\n",
       "    </tr>\n",
       "    <tr>\n",
       "      <th>PARK_FACIL</th>\n",
       "      <td>0.004357</td>\n",
       "      <td>0.004771</td>\n",
       "      <td>-0.000948</td>\n",
       "      <td>1.000000</td>\n",
       "      <td>-0.011584</td>\n",
       "      <td>0.002516</td>\n",
       "      <td>0.006849</td>\n",
       "      <td>0.146975</td>\n",
       "    </tr>\n",
       "    <tr>\n",
       "      <th>N_ROOM</th>\n",
       "      <td>-0.091258</td>\n",
       "      <td>0.951305</td>\n",
       "      <td>1.000000</td>\n",
       "      <td>-0.000948</td>\n",
       "      <td>-0.009284</td>\n",
       "      <td>-0.088951</td>\n",
       "      <td>-0.163375</td>\n",
       "      <td>0.603417</td>\n",
       "    </tr>\n",
       "    <tr>\n",
       "      <th>INT_SQFT</th>\n",
       "      <td>-0.059020</td>\n",
       "      <td>1.000000</td>\n",
       "      <td>0.951305</td>\n",
       "      <td>0.004771</td>\n",
       "      <td>-0.010219</td>\n",
       "      <td>-0.090918</td>\n",
       "      <td>-0.142489</td>\n",
       "      <td>0.612668</td>\n",
       "    </tr>\n",
       "    <tr>\n",
       "      <th>SALES_PRICE</th>\n",
       "      <td>-0.121602</td>\n",
       "      <td>0.612668</td>\n",
       "      <td>0.603417</td>\n",
       "      <td>0.146975</td>\n",
       "      <td>-0.515823</td>\n",
       "      <td>-0.150060</td>\n",
       "      <td>-0.427526</td>\n",
       "      <td>1.000000</td>\n",
       "    </tr>\n",
       "  </tbody>\n",
       "</table>\n",
       "</div>"
      ],
      "text/plain": [
       "                 AREA  INT_SQFT    N_ROOM  PARK_FACIL  BUILDTYPE    STREET  \\\n",
       "BUILDTYPE   -0.005231 -0.010219 -0.009284   -0.011584   1.000000 -0.014846   \n",
       "MZZONE       0.375669 -0.142489 -0.163375    0.006849   0.005276  0.041087   \n",
       "STREET       0.073831 -0.090918 -0.088951    0.002516  -0.014846  1.000000   \n",
       "AREA         1.000000 -0.059020 -0.091258    0.004357  -0.005231  0.073831   \n",
       "PARK_FACIL   0.004357  0.004771 -0.000948    1.000000  -0.011584  0.002516   \n",
       "N_ROOM      -0.091258  0.951305  1.000000   -0.000948  -0.009284 -0.088951   \n",
       "INT_SQFT    -0.059020  1.000000  0.951305    0.004771  -0.010219 -0.090918   \n",
       "SALES_PRICE -0.121602  0.612668  0.603417    0.146975  -0.515823 -0.150060   \n",
       "\n",
       "               MZZONE  SALES_PRICE  \n",
       "BUILDTYPE    0.005276    -0.515823  \n",
       "MZZONE       1.000000    -0.427526  \n",
       "STREET       0.041087    -0.150060  \n",
       "AREA         0.375669    -0.121602  \n",
       "PARK_FACIL   0.006849     0.146975  \n",
       "N_ROOM      -0.163375     0.603417  \n",
       "INT_SQFT    -0.142489     0.612668  \n",
       "SALES_PRICE -0.427526     1.000000  "
      ]
     },
     "execution_count": 56,
     "metadata": {},
     "output_type": "execute_result"
    }
   ],
   "source": [
    "data.corr().sort_values(by=\"SALES_PRICE\")"
   ]
  },
  {
   "cell_type": "code",
   "execution_count": 57,
   "id": "acf5227d",
   "metadata": {},
   "outputs": [],
   "source": [
    "data.drop([\"N_ROOM\"],axis=1,inplace=True)"
   ]
  },
  {
   "cell_type": "code",
   "execution_count": 58,
   "id": "9741c96e",
   "metadata": {},
   "outputs": [
    {
     "data": {
      "text/html": [
       "<div>\n",
       "<style scoped>\n",
       "    .dataframe tbody tr th:only-of-type {\n",
       "        vertical-align: middle;\n",
       "    }\n",
       "\n",
       "    .dataframe tbody tr th {\n",
       "        vertical-align: top;\n",
       "    }\n",
       "\n",
       "    .dataframe thead th {\n",
       "        text-align: right;\n",
       "    }\n",
       "</style>\n",
       "<table border=\"1\" class=\"dataframe\">\n",
       "  <thead>\n",
       "    <tr style=\"text-align: right;\">\n",
       "      <th></th>\n",
       "      <th>AREA</th>\n",
       "      <th>INT_SQFT</th>\n",
       "      <th>PARK_FACIL</th>\n",
       "      <th>BUILDTYPE</th>\n",
       "      <th>STREET</th>\n",
       "      <th>MZZONE</th>\n",
       "      <th>SALES_PRICE</th>\n",
       "    </tr>\n",
       "  </thead>\n",
       "  <tbody>\n",
       "    <tr>\n",
       "      <th>0</th>\n",
       "      <td>5</td>\n",
       "      <td>1004</td>\n",
       "      <td>1</td>\n",
       "      <td>1</td>\n",
       "      <td>2</td>\n",
       "      <td>6</td>\n",
       "      <td>7600000</td>\n",
       "    </tr>\n",
       "    <tr>\n",
       "      <th>1</th>\n",
       "      <td>3</td>\n",
       "      <td>1986</td>\n",
       "      <td>0</td>\n",
       "      <td>1</td>\n",
       "      <td>1</td>\n",
       "      <td>3</td>\n",
       "      <td>21717770</td>\n",
       "    </tr>\n",
       "    <tr>\n",
       "      <th>2</th>\n",
       "      <td>7</td>\n",
       "      <td>909</td>\n",
       "      <td>1</td>\n",
       "      <td>1</td>\n",
       "      <td>1</td>\n",
       "      <td>2</td>\n",
       "      <td>13159200</td>\n",
       "    </tr>\n",
       "    <tr>\n",
       "      <th>3</th>\n",
       "      <td>4</td>\n",
       "      <td>1855</td>\n",
       "      <td>0</td>\n",
       "      <td>2</td>\n",
       "      <td>2</td>\n",
       "      <td>4</td>\n",
       "      <td>9630290</td>\n",
       "    </tr>\n",
       "    <tr>\n",
       "      <th>4</th>\n",
       "      <td>5</td>\n",
       "      <td>1226</td>\n",
       "      <td>1</td>\n",
       "      <td>2</td>\n",
       "      <td>1</td>\n",
       "      <td>5</td>\n",
       "      <td>7406250</td>\n",
       "    </tr>\n",
       "    <tr>\n",
       "      <th>...</th>\n",
       "      <td>...</td>\n",
       "      <td>...</td>\n",
       "      <td>...</td>\n",
       "      <td>...</td>\n",
       "      <td>...</td>\n",
       "      <td>...</td>\n",
       "      <td>...</td>\n",
       "    </tr>\n",
       "    <tr>\n",
       "      <th>7104</th>\n",
       "      <td>5</td>\n",
       "      <td>598</td>\n",
       "      <td>0</td>\n",
       "      <td>2</td>\n",
       "      <td>3</td>\n",
       "      <td>1</td>\n",
       "      <td>5353000</td>\n",
       "    </tr>\n",
       "    <tr>\n",
       "      <th>7105</th>\n",
       "      <td>4</td>\n",
       "      <td>1897</td>\n",
       "      <td>1</td>\n",
       "      <td>2</td>\n",
       "      <td>3</td>\n",
       "      <td>3</td>\n",
       "      <td>10818480</td>\n",
       "    </tr>\n",
       "    <tr>\n",
       "      <th>7106</th>\n",
       "      <td>4</td>\n",
       "      <td>1614</td>\n",
       "      <td>0</td>\n",
       "      <td>3</td>\n",
       "      <td>1</td>\n",
       "      <td>4</td>\n",
       "      <td>8351410</td>\n",
       "    </tr>\n",
       "    <tr>\n",
       "      <th>7107</th>\n",
       "      <td>5</td>\n",
       "      <td>787</td>\n",
       "      <td>1</td>\n",
       "      <td>1</td>\n",
       "      <td>2</td>\n",
       "      <td>2</td>\n",
       "      <td>8507000</td>\n",
       "    </tr>\n",
       "    <tr>\n",
       "      <th>7108</th>\n",
       "      <td>4</td>\n",
       "      <td>1896</td>\n",
       "      <td>1</td>\n",
       "      <td>2</td>\n",
       "      <td>2</td>\n",
       "      <td>4</td>\n",
       "      <td>9976480</td>\n",
       "    </tr>\n",
       "  </tbody>\n",
       "</table>\n",
       "<p>7056 rows × 7 columns</p>\n",
       "</div>"
      ],
      "text/plain": [
       "      AREA  INT_SQFT  PARK_FACIL  BUILDTYPE  STREET  MZZONE  SALES_PRICE\n",
       "0        5      1004           1          1       2       6      7600000\n",
       "1        3      1986           0          1       1       3     21717770\n",
       "2        7       909           1          1       1       2     13159200\n",
       "3        4      1855           0          2       2       4      9630290\n",
       "4        5      1226           1          2       1       5      7406250\n",
       "...    ...       ...         ...        ...     ...     ...          ...\n",
       "7104     5       598           0          2       3       1      5353000\n",
       "7105     4      1897           1          2       3       3     10818480\n",
       "7106     4      1614           0          3       1       4      8351410\n",
       "7107     5       787           1          1       2       2      8507000\n",
       "7108     4      1896           1          2       2       4      9976480\n",
       "\n",
       "[7056 rows x 7 columns]"
      ]
     },
     "execution_count": 58,
     "metadata": {},
     "output_type": "execute_result"
    }
   ],
   "source": [
    "data"
   ]
  },
  {
   "cell_type": "code",
   "execution_count": 59,
   "id": "b33bbcbe",
   "metadata": {},
   "outputs": [],
   "source": [
    "#Going to build model\n",
    "from sklearn.linear_model import LinearRegression\n",
    "from sklearn.tree import DecisionTreeRegressor\n",
    "from xgboost import XGBRegressor\n",
    "from sklearn.model_selection import cross_val_score\n",
    "from sklearn.model_selection import train_test_split\n",
    "from sklearn.metrics import r2_score"
   ]
  },
  {
   "cell_type": "code",
   "execution_count": 60,
   "id": "0c46953f",
   "metadata": {},
   "outputs": [],
   "source": [
    "x=data.drop(\"SALES_PRICE\",axis=1)\n",
    "y=data[\"SALES_PRICE\"]"
   ]
  },
  {
   "cell_type": "code",
   "execution_count": 61,
   "id": "19f451b8",
   "metadata": {},
   "outputs": [],
   "source": [
    "x_train,x_test,y_train,y_test=train_test_split(x,y,test_size=0.2)"
   ]
  },
  {
   "cell_type": "code",
   "execution_count": 62,
   "id": "0f3b5ca6",
   "metadata": {},
   "outputs": [
    {
     "name": "stdout",
     "output_type": "stream",
     "text": [
      "r2_score : 0.7910390099898763\n",
      "Cross_val_score : 0.7786058107617873\n"
     ]
    }
   ],
   "source": [
    "lr=LinearRegression()\n",
    "lr.fit(x_train,y_train)\n",
    "y_pred=lr.predict(x_test)\n",
    "print(\"r2_score :\",r2_score(y_test, y_pred))\n",
    "print(\"Cross_val_score :\",np.mean(cross_val_score(lr,x_train,y_train)))"
   ]
  },
  {
   "cell_type": "code",
   "execution_count": 63,
   "id": "8f299cd8",
   "metadata": {},
   "outputs": [
    {
     "name": "stdout",
     "output_type": "stream",
     "text": [
      "r2_score : 0.9733779325905929\n",
      "Cross_val_score : 0.9684625946981598\n"
     ]
    }
   ],
   "source": [
    "tree=DecisionTreeRegressor()\n",
    "tree.fit(x_train,y_train)\n",
    "y_pred=tree.predict(x_test)\n",
    "print(\"r2_score :\",r2_score(y_test, y_pred))\n",
    "print(\"Cross_val_score :\",np.mean(cross_val_score(tree,x_train,y_train)))"
   ]
  },
  {
   "cell_type": "code",
   "execution_count": 64,
   "id": "1b14ecef",
   "metadata": {},
   "outputs": [
    {
     "name": "stdout",
     "output_type": "stream",
     "text": [
      "r2_score : 0.9890255151100238\n",
      "Cross_val_score : 0.987462901981188\n"
     ]
    }
   ],
   "source": [
    "xgb=XGBRegressor()\n",
    "xgb.fit(x_train,y_train)\n",
    "y_pred=xgb.predict(x_test)\n",
    "print(\"r2_score :\",r2_score(y_test, y_pred))\n",
    "print(\"Cross_val_score :\",np.mean(cross_val_score(xgb,x_train,y_train)))"
   ]
  },
  {
   "cell_type": "code",
   "execution_count": 65,
   "id": "07c2b6ae",
   "metadata": {},
   "outputs": [],
   "source": [
    "n=pd.DataFrame({\"Actual\":y_test,\"Predicted\":y_pred})"
   ]
  },
  {
   "cell_type": "code",
   "execution_count": 66,
   "id": "1fd48ed0",
   "metadata": {},
   "outputs": [
    {
     "data": {
      "text/html": [
       "<div>\n",
       "<style scoped>\n",
       "    .dataframe tbody tr th:only-of-type {\n",
       "        vertical-align: middle;\n",
       "    }\n",
       "\n",
       "    .dataframe tbody tr th {\n",
       "        vertical-align: top;\n",
       "    }\n",
       "\n",
       "    .dataframe thead th {\n",
       "        text-align: right;\n",
       "    }\n",
       "</style>\n",
       "<table border=\"1\" class=\"dataframe\">\n",
       "  <thead>\n",
       "    <tr style=\"text-align: right;\">\n",
       "      <th></th>\n",
       "      <th>Actual</th>\n",
       "      <th>Predicted</th>\n",
       "    </tr>\n",
       "  </thead>\n",
       "  <tbody>\n",
       "    <tr>\n",
       "      <th>3247</th>\n",
       "      <td>9492700</td>\n",
       "      <td>9693248.0</td>\n",
       "    </tr>\n",
       "    <tr>\n",
       "      <th>1338</th>\n",
       "      <td>8020500</td>\n",
       "      <td>8359021.0</td>\n",
       "    </tr>\n",
       "    <tr>\n",
       "      <th>3059</th>\n",
       "      <td>10105720</td>\n",
       "      <td>9301526.0</td>\n",
       "    </tr>\n",
       "    <tr>\n",
       "      <th>1304</th>\n",
       "      <td>20989850</td>\n",
       "      <td>21456768.0</td>\n",
       "    </tr>\n",
       "    <tr>\n",
       "      <th>361</th>\n",
       "      <td>11658500</td>\n",
       "      <td>11790223.0</td>\n",
       "    </tr>\n",
       "    <tr>\n",
       "      <th>...</th>\n",
       "      <td>...</td>\n",
       "      <td>...</td>\n",
       "    </tr>\n",
       "    <tr>\n",
       "      <th>5692</th>\n",
       "      <td>8739135</td>\n",
       "      <td>8506404.0</td>\n",
       "    </tr>\n",
       "    <tr>\n",
       "      <th>5267</th>\n",
       "      <td>15195150</td>\n",
       "      <td>14898437.0</td>\n",
       "    </tr>\n",
       "    <tr>\n",
       "      <th>5129</th>\n",
       "      <td>10158300</td>\n",
       "      <td>10847742.0</td>\n",
       "    </tr>\n",
       "    <tr>\n",
       "      <th>7017</th>\n",
       "      <td>13573320</td>\n",
       "      <td>13817599.0</td>\n",
       "    </tr>\n",
       "    <tr>\n",
       "      <th>3621</th>\n",
       "      <td>22000360</td>\n",
       "      <td>21474820.0</td>\n",
       "    </tr>\n",
       "  </tbody>\n",
       "</table>\n",
       "<p>1412 rows × 2 columns</p>\n",
       "</div>"
      ],
      "text/plain": [
       "        Actual   Predicted\n",
       "3247   9492700   9693248.0\n",
       "1338   8020500   8359021.0\n",
       "3059  10105720   9301526.0\n",
       "1304  20989850  21456768.0\n",
       "361   11658500  11790223.0\n",
       "...        ...         ...\n",
       "5692   8739135   8506404.0\n",
       "5267  15195150  14898437.0\n",
       "5129  10158300  10847742.0\n",
       "7017  13573320  13817599.0\n",
       "3621  22000360  21474820.0\n",
       "\n",
       "[1412 rows x 2 columns]"
      ]
     },
     "execution_count": 66,
     "metadata": {},
     "output_type": "execute_result"
    }
   ],
   "source": [
    "n"
   ]
  }
 ],
 "metadata": {
  "kernelspec": {
   "display_name": "Python 3",
   "language": "python",
   "name": "python3"
  },
  "language_info": {
   "codemirror_mode": {
    "name": "ipython",
    "version": 3
   },
   "file_extension": ".py",
   "mimetype": "text/x-python",
   "name": "python",
   "nbconvert_exporter": "python",
   "pygments_lexer": "ipython3",
   "version": "3.8.8"
  }
 },
 "nbformat": 4,
 "nbformat_minor": 5
}
